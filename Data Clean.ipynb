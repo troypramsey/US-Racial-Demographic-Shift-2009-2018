{
 "cells": [
  {
   "cell_type": "code",
   "execution_count": 1,
   "metadata": {},
   "outputs": [],
   "source": [
    "# dependencies\n",
    "import pandas as pd\n",
    "import requests\n",
    "import json\n",
    "from census import Census\n",
    "from us import states\n",
    "\n",
    "# from uszipcode import SearchEngine\n",
    "\n",
    "# US zipcode search (simple_zipcode=False provides polygon data)\n",
    "#search = SearchEngine(simple_zipcode=True)\n",
    "\n",
    "# census API key\n",
    "from config import api_key"
   ]
  },
  {
   "cell_type": "code",
   "execution_count": 51,
   "metadata": {},
   "outputs": [],
   "source": [
    "years = [2009, 2010, 2011, 2012, 2013, 2014, 2015, 2016, 2017, 2018]\n",
    "\n",
    "for year in years:\n",
    "    c = Census(api_key, year=year)\n",
    "\n",
    "    # From API: Population, State FIPS, County FIPS\n",
    "    total = pd.DataFrame(c.acs5.state_county('B01003_001E', Census.ALL, Census.ALL))\n",
    "    white = pd.DataFrame(c.acs5.state_county('B02001_002E', Census.ALL, Census.ALL))\n",
    "\n",
    "    # Rename Census variables\n",
    "    total = total.rename(columns={'B01003_001E': 'total'})\n",
    "    white = white.rename(columns={'B02001_002E': 'white'})\n",
    "\n",
    "    # Create national county FIPS\n",
    "    total['fips'] = total.state + total.county\n",
    "    white['fips'] = white.state + white.county\n",
    "\n",
    "    # Recast FIPS as integer\n",
    "    total = total.astype({'fips': 'int32'})\n",
    "    white = white.astype({'fips': 'int32'})\n",
    "\n",
    "    # Merge into single dataframe\n",
    "    full = pd.merge(total, white, on='fips')\n",
    "\n",
    "    # Read in county names\n",
    "    county_names = pd.read_csv('project_two/static/county_fips_master.csv', encoding = \"ISO-8859-1\")\n",
    "    county_names = county_names[['fips', 'county_name', 'state_name']]\n",
    "    county_names = county_names.astype({'fips': 'int32'})\n",
    "\n",
    "    # Merge county names into data\n",
    "    fullCounties = pd.merge(full, county_names, on='fips')\n",
    "\n",
    "    # Clean data and extract necessary columns only\n",
    "    fullCounties['white_pct'] = round((fullCounties.white/fullCounties.total*100), 2)\n",
    "    fullCounties['nonwhite_pct'] = 100 - fullCounties.white_pct\n",
    "    fullCounties['year'] = year\n",
    "    fullCounties = fullCounties[['fips', 'county_name', 'state_name', 'nonwhite_pct', 'year']]\n",
    "    \n",
    "    # Export to JSON format\n",
    "    fullCounties.to_json(f'project_two/data/census{year}.json', orient='records')"
   ]
  },
  {
   "cell_type": "code",
   "execution_count": null,
   "metadata": {},
   "outputs": [],
   "source": []
  }
 ],
 "metadata": {
  "kernelspec": {
   "display_name": "project2",
   "language": "python",
   "name": "project2"
  },
  "language_info": {
   "codemirror_mode": {
    "name": "ipython",
    "version": 3
   },
   "file_extension": ".py",
   "mimetype": "text/x-python",
   "name": "python",
   "nbconvert_exporter": "python",
   "pygments_lexer": "ipython3",
   "version": "3.6.12"
  }
 },
 "nbformat": 4,
 "nbformat_minor": 4
}
